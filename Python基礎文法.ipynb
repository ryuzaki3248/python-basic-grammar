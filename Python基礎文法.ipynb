{
  "nbformat": 4,
  "nbformat_minor": 0,
  "metadata": {
    "colab": {
      "provenance": [],
      "authorship_tag": "ABX9TyPXvsifQ5ynjM3fu2tUjPkf",
      "include_colab_link": true
    },
    "kernelspec": {
      "name": "python3",
      "display_name": "Python 3"
    },
    "language_info": {
      "name": "python"
    }
  },
  "cells": [
    {
      "cell_type": "markdown",
      "metadata": {
        "id": "view-in-github",
        "colab_type": "text"
      },
      "source": [
        "<a href=\"https://colab.research.google.com/github/ryuzaki3248/python-basic-grammar/blob/main/Python%E5%9F%BA%E7%A4%8E%E6%96%87%E6%B3%95.ipynb\" target=\"_parent\"><img src=\"https://colab.research.google.com/assets/colab-badge.svg\" alt=\"Open In Colab\"/></a>"
      ]
    },
    {
      "cell_type": "code",
      "execution_count": null,
      "metadata": {
        "colab": {
          "base_uri": "https://localhost:8080/"
        },
        "id": "XaBq5oJuhATW",
        "outputId": "d6f459df-4127-4e4c-a2e1-a97adeee1393"
      },
      "outputs": [
        {
          "output_type": "stream",
          "name": "stdout",
          "text": [
            "Hello World\n"
          ]
        }
      ],
      "source": [
        "print(\"Hello World\")"
      ]
    },
    {
      "cell_type": "code",
      "source": [
        "# これはHello Worldと表示するプログラムです\n",
        "print(\"Hello World\")\n",
        "\n",
        "# これはコメントアウトされるため何も処理を行いません\n",
        "# print(\"こんにちは世界\")\n"
      ],
      "metadata": {
        "id": "U46-5xkbhdM_",
        "colab": {
          "base_uri": "https://localhost:8080/"
        },
        "outputId": "77c80f87-bd83-4999-b527-5a191838a37a"
      },
      "execution_count": 1,
      "outputs": [
        {
          "output_type": "stream",
          "name": "stdout",
          "text": [
            "Hello World\n"
          ]
        }
      ]
    }
  ]
}